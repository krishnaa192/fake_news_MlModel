{
 "cells": [
  {
   "cell_type": "code",
   "execution_count": 58,
   "id": "65b05524-a957-4d9e-ade8-3993489d461a",
   "metadata": {},
   "outputs": [],
   "source": [
    "import pandas as pd\n",
    "import numpy as np\n",
    "import matplotlib.pyplot as plt\n",
    "import seaborn as sns\n",
    "import re\n",
    "from nltk.corpus import stopwords\n",
    "from nltk.stem.porter import PorterStemmer\n",
    "from sklearn.feature_extraction.text import TfidfVectorizer\n",
    "from sklearn.model_selection import train_test_split\n",
    "from sklearn.linear_model import LogisticRegression\n",
    "from sklearn.metrics import accuracy_score \n"
   ]
  },
  {
   "cell_type": "markdown",
   "id": "fdb65491-a359-4609-b98d-0cc4c148b257",
   "metadata": {},
   "source": [
    "Data PreProcessing"
   ]
  },
  {
   "cell_type": "code",
   "execution_count": 59,
   "id": "25359c10-20d5-45b4-a334-5c1761d8eb62",
   "metadata": {},
   "outputs": [],
   "source": [
    "data=pd.read_csv('Downloads/train.csv.zip')"
   ]
  },
  {
   "cell_type": "code",
   "execution_count": 60,
   "id": "ac9bdd52-df13-4c9a-94b5-4daab5884cab",
   "metadata": {},
   "outputs": [
    {
     "data": {
      "text/html": [
       "<div>\n",
       "<style scoped>\n",
       "    .dataframe tbody tr th:only-of-type {\n",
       "        vertical-align: middle;\n",
       "    }\n",
       "\n",
       "    .dataframe tbody tr th {\n",
       "        vertical-align: top;\n",
       "    }\n",
       "\n",
       "    .dataframe thead th {\n",
       "        text-align: right;\n",
       "    }\n",
       "</style>\n",
       "<table border=\"1\" class=\"dataframe\">\n",
       "  <thead>\n",
       "    <tr style=\"text-align: right;\">\n",
       "      <th></th>\n",
       "      <th>id</th>\n",
       "      <th>title</th>\n",
       "      <th>author</th>\n",
       "      <th>text</th>\n",
       "      <th>label</th>\n",
       "    </tr>\n",
       "  </thead>\n",
       "  <tbody>\n",
       "    <tr>\n",
       "      <th>0</th>\n",
       "      <td>0</td>\n",
       "      <td>House Dem Aide: We Didn’t Even See Comey’s Let...</td>\n",
       "      <td>Darrell Lucus</td>\n",
       "      <td>House Dem Aide: We Didn’t Even See Comey’s Let...</td>\n",
       "      <td>1</td>\n",
       "    </tr>\n",
       "    <tr>\n",
       "      <th>1</th>\n",
       "      <td>1</td>\n",
       "      <td>FLYNN: Hillary Clinton, Big Woman on Campus - ...</td>\n",
       "      <td>Daniel J. Flynn</td>\n",
       "      <td>Ever get the feeling your life circles the rou...</td>\n",
       "      <td>0</td>\n",
       "    </tr>\n",
       "    <tr>\n",
       "      <th>2</th>\n",
       "      <td>2</td>\n",
       "      <td>Why the Truth Might Get You Fired</td>\n",
       "      <td>Consortiumnews.com</td>\n",
       "      <td>Why the Truth Might Get You Fired October 29, ...</td>\n",
       "      <td>1</td>\n",
       "    </tr>\n",
       "    <tr>\n",
       "      <th>3</th>\n",
       "      <td>3</td>\n",
       "      <td>15 Civilians Killed In Single US Airstrike Hav...</td>\n",
       "      <td>Jessica Purkiss</td>\n",
       "      <td>Videos 15 Civilians Killed In Single US Airstr...</td>\n",
       "      <td>1</td>\n",
       "    </tr>\n",
       "    <tr>\n",
       "      <th>4</th>\n",
       "      <td>4</td>\n",
       "      <td>Iranian woman jailed for fictional unpublished...</td>\n",
       "      <td>Howard Portnoy</td>\n",
       "      <td>Print \\nAn Iranian woman has been sentenced to...</td>\n",
       "      <td>1</td>\n",
       "    </tr>\n",
       "  </tbody>\n",
       "</table>\n",
       "</div>"
      ],
      "text/plain": [
       "   id                                              title              author  \\\n",
       "0   0  House Dem Aide: We Didn’t Even See Comey’s Let...       Darrell Lucus   \n",
       "1   1  FLYNN: Hillary Clinton, Big Woman on Campus - ...     Daniel J. Flynn   \n",
       "2   2                  Why the Truth Might Get You Fired  Consortiumnews.com   \n",
       "3   3  15 Civilians Killed In Single US Airstrike Hav...     Jessica Purkiss   \n",
       "4   4  Iranian woman jailed for fictional unpublished...      Howard Portnoy   \n",
       "\n",
       "                                                text  label  \n",
       "0  House Dem Aide: We Didn’t Even See Comey’s Let...      1  \n",
       "1  Ever get the feeling your life circles the rou...      0  \n",
       "2  Why the Truth Might Get You Fired October 29, ...      1  \n",
       "3  Videos 15 Civilians Killed In Single US Airstr...      1  \n",
       "4  Print \\nAn Iranian woman has been sentenced to...      1  "
      ]
     },
     "execution_count": 60,
     "metadata": {},
     "output_type": "execute_result"
    }
   ],
   "source": [
    "data.head()"
   ]
  },
  {
   "cell_type": "code",
   "execution_count": 61,
   "id": "83ffe1aa-f369-4402-b4af-2b01140f0135",
   "metadata": {},
   "outputs": [
    {
     "data": {
      "text/html": [
       "<div>\n",
       "<style scoped>\n",
       "    .dataframe tbody tr th:only-of-type {\n",
       "        vertical-align: middle;\n",
       "    }\n",
       "\n",
       "    .dataframe tbody tr th {\n",
       "        vertical-align: top;\n",
       "    }\n",
       "\n",
       "    .dataframe thead th {\n",
       "        text-align: right;\n",
       "    }\n",
       "</style>\n",
       "<table border=\"1\" class=\"dataframe\">\n",
       "  <thead>\n",
       "    <tr style=\"text-align: right;\">\n",
       "      <th></th>\n",
       "      <th>id</th>\n",
       "      <th>title</th>\n",
       "      <th>author</th>\n",
       "      <th>text</th>\n",
       "      <th>label</th>\n",
       "    </tr>\n",
       "  </thead>\n",
       "  <tbody>\n",
       "    <tr>\n",
       "      <th>0</th>\n",
       "      <td>0</td>\n",
       "      <td>House Dem Aide: We Didn’t Even See Comey’s Let...</td>\n",
       "      <td>Darrell Lucus</td>\n",
       "      <td>House Dem Aide: We Didn’t Even See Comey’s Let...</td>\n",
       "      <td>1</td>\n",
       "    </tr>\n",
       "    <tr>\n",
       "      <th>1</th>\n",
       "      <td>1</td>\n",
       "      <td>FLYNN: Hillary Clinton, Big Woman on Campus - ...</td>\n",
       "      <td>Daniel J. Flynn</td>\n",
       "      <td>Ever get the feeling your life circles the rou...</td>\n",
       "      <td>0</td>\n",
       "    </tr>\n",
       "    <tr>\n",
       "      <th>2</th>\n",
       "      <td>2</td>\n",
       "      <td>Why the Truth Might Get You Fired</td>\n",
       "      <td>Consortiumnews.com</td>\n",
       "      <td>Why the Truth Might Get You Fired October 29, ...</td>\n",
       "      <td>1</td>\n",
       "    </tr>\n",
       "    <tr>\n",
       "      <th>3</th>\n",
       "      <td>3</td>\n",
       "      <td>15 Civilians Killed In Single US Airstrike Hav...</td>\n",
       "      <td>Jessica Purkiss</td>\n",
       "      <td>Videos 15 Civilians Killed In Single US Airstr...</td>\n",
       "      <td>1</td>\n",
       "    </tr>\n",
       "    <tr>\n",
       "      <th>4</th>\n",
       "      <td>4</td>\n",
       "      <td>Iranian woman jailed for fictional unpublished...</td>\n",
       "      <td>Howard Portnoy</td>\n",
       "      <td>Print \\nAn Iranian woman has been sentenced to...</td>\n",
       "      <td>1</td>\n",
       "    </tr>\n",
       "  </tbody>\n",
       "</table>\n",
       "</div>"
      ],
      "text/plain": [
       "   id                                              title              author  \\\n",
       "0   0  House Dem Aide: We Didn’t Even See Comey’s Let...       Darrell Lucus   \n",
       "1   1  FLYNN: Hillary Clinton, Big Woman on Campus - ...     Daniel J. Flynn   \n",
       "2   2                  Why the Truth Might Get You Fired  Consortiumnews.com   \n",
       "3   3  15 Civilians Killed In Single US Airstrike Hav...     Jessica Purkiss   \n",
       "4   4  Iranian woman jailed for fictional unpublished...      Howard Portnoy   \n",
       "\n",
       "                                                text  label  \n",
       "0  House Dem Aide: We Didn’t Even See Comey’s Let...      1  \n",
       "1  Ever get the feeling your life circles the rou...      0  \n",
       "2  Why the Truth Might Get You Fired October 29, ...      1  \n",
       "3  Videos 15 Civilians Killed In Single US Airstr...      1  \n",
       "4  Print \\nAn Iranian woman has been sentenced to...      1  "
      ]
     },
     "execution_count": 61,
     "metadata": {},
     "output_type": "execute_result"
    }
   ],
   "source": [
    "data.head()"
   ]
  },
  {
   "cell_type": "code",
   "execution_count": 62,
   "id": "65244529-c820-4c1e-a8d7-febf14cd765d",
   "metadata": {},
   "outputs": [
    {
     "name": "stdout",
     "output_type": "stream",
     "text": [
      "<class 'pandas.core.frame.DataFrame'>\n",
      "RangeIndex: 20800 entries, 0 to 20799\n",
      "Data columns (total 5 columns):\n",
      " #   Column  Non-Null Count  Dtype \n",
      "---  ------  --------------  ----- \n",
      " 0   id      20800 non-null  int64 \n",
      " 1   title   20242 non-null  object\n",
      " 2   author  18843 non-null  object\n",
      " 3   text    20761 non-null  object\n",
      " 4   label   20800 non-null  int64 \n",
      "dtypes: int64(2), object(3)\n",
      "memory usage: 812.6+ KB\n"
     ]
    }
   ],
   "source": [
    "data.info()"
   ]
  },
  {
   "cell_type": "code",
   "execution_count": 63,
   "id": "7bb2bccf-a4d7-4c5c-b97c-2934edb2e675",
   "metadata": {},
   "outputs": [
    {
     "data": {
      "text/plain": [
       "(20800, 5)"
      ]
     },
     "execution_count": 63,
     "metadata": {},
     "output_type": "execute_result"
    }
   ],
   "source": [
    "data.shape"
   ]
  },
  {
   "cell_type": "code",
   "execution_count": 64,
   "id": "08de774d-f21c-4c5d-95d3-412970c4aa85",
   "metadata": {},
   "outputs": [
    {
     "data": {
      "text/html": [
       "<div>\n",
       "<style scoped>\n",
       "    .dataframe tbody tr th:only-of-type {\n",
       "        vertical-align: middle;\n",
       "    }\n",
       "\n",
       "    .dataframe tbody tr th {\n",
       "        vertical-align: top;\n",
       "    }\n",
       "\n",
       "    .dataframe thead th {\n",
       "        text-align: right;\n",
       "    }\n",
       "</style>\n",
       "<table border=\"1\" class=\"dataframe\">\n",
       "  <thead>\n",
       "    <tr style=\"text-align: right;\">\n",
       "      <th></th>\n",
       "      <th>id</th>\n",
       "      <th>label</th>\n",
       "    </tr>\n",
       "  </thead>\n",
       "  <tbody>\n",
       "    <tr>\n",
       "      <th>count</th>\n",
       "      <td>20800.000000</td>\n",
       "      <td>20800.000000</td>\n",
       "    </tr>\n",
       "    <tr>\n",
       "      <th>mean</th>\n",
       "      <td>10399.500000</td>\n",
       "      <td>0.500625</td>\n",
       "    </tr>\n",
       "    <tr>\n",
       "      <th>std</th>\n",
       "      <td>6004.587135</td>\n",
       "      <td>0.500012</td>\n",
       "    </tr>\n",
       "    <tr>\n",
       "      <th>min</th>\n",
       "      <td>0.000000</td>\n",
       "      <td>0.000000</td>\n",
       "    </tr>\n",
       "    <tr>\n",
       "      <th>25%</th>\n",
       "      <td>5199.750000</td>\n",
       "      <td>0.000000</td>\n",
       "    </tr>\n",
       "    <tr>\n",
       "      <th>50%</th>\n",
       "      <td>10399.500000</td>\n",
       "      <td>1.000000</td>\n",
       "    </tr>\n",
       "    <tr>\n",
       "      <th>75%</th>\n",
       "      <td>15599.250000</td>\n",
       "      <td>1.000000</td>\n",
       "    </tr>\n",
       "    <tr>\n",
       "      <th>max</th>\n",
       "      <td>20799.000000</td>\n",
       "      <td>1.000000</td>\n",
       "    </tr>\n",
       "  </tbody>\n",
       "</table>\n",
       "</div>"
      ],
      "text/plain": [
       "                 id         label\n",
       "count  20800.000000  20800.000000\n",
       "mean   10399.500000      0.500625\n",
       "std     6004.587135      0.500012\n",
       "min        0.000000      0.000000\n",
       "25%     5199.750000      0.000000\n",
       "50%    10399.500000      1.000000\n",
       "75%    15599.250000      1.000000\n",
       "max    20799.000000      1.000000"
      ]
     },
     "execution_count": 64,
     "metadata": {},
     "output_type": "execute_result"
    }
   ],
   "source": [
    "data.describe()"
   ]
  },
  {
   "cell_type": "code",
   "execution_count": 65,
   "id": "fc979584-c61c-45fb-9e1d-77251b9afd29",
   "metadata": {},
   "outputs": [
    {
     "data": {
      "text/plain": [
       "title\n",
       "Get Ready For Civil Unrest: Survey Finds That Most Americans Are Concerned About Election Violence              5\n",
       "The Dark Agenda Behind Globalism And Open Borders                                                               5\n",
       "Schools All Over America Are Closing On Election Day Due To Fears Of Violence                                   4\n",
       "“If Trump Loses, I’m Grabbing My Musket”: Former Congressman Ready to Go Full Revolution                        4\n",
       "Public vs. Media on War                                                                                         4\n",
       "                                                                                                               ..\n",
       "Report: Only 6% of Millennials Said Their Social Media Was a ’Completely True’ Depiction of Them - Breitbart    1\n",
       "Hillary Clinton, Donald Trump, Iraq Inquiry: Your Wednesday Evening Briefing - The New York Times               1\n",
       "Shall We Save Civilization, or Not? - American Herald Tribune                                                   1\n",
       "Syria’s Horrors Visit Turkey Again as Bomber Attacks Kurdish Wedding - The New York Times                       1\n",
       "NATO, Russia To Hold Parallel Exercises In Balkans                                                              1\n",
       "Name: count, Length: 19803, dtype: int64"
      ]
     },
     "execution_count": 65,
     "metadata": {},
     "output_type": "execute_result"
    }
   ],
   "source": [
    "data['title'].value_counts()"
   ]
  },
  {
   "cell_type": "code",
   "execution_count": 66,
   "id": "6f0ccc47-fcae-4b2f-9e93-80d0ee52ff8d",
   "metadata": {},
   "outputs": [
    {
     "data": {
      "text/plain": [
       "text\n",
       "                                                                                                                                                                                                                                                                                                                                                                                                                                                                                                                                                                                                                                                                                                                                                                                                                                                                                                                                                                                                                                                                                                                                                                                                                                                                                                                                                                                                                                                                                                                                                                                                                                                                                                                                                                                                                                                                                                                                                                                                                                                                                                                                                                                                                                                                                                                                                                                                                                                                                                                                                                                                                                                                                                                                                                                                                                                                                                                                                                                                                                                                                                                                                                                                                                                                                                                                                                                                                                                                                                                                                                                                                                                                                                                                                                                                                                                                                                                                                                                                                                                                                                                                                                                                                                                                                                                                                                                                                                                                                                                                                                                                                                                                                                                                                                                                                                                                                                                                                                                                                                                                                                                                                                                                                                                                                                                                                                                                                                                                                                                                                                                                                                                                                                                                                                                                                                                                                                                                                                                                                                                                                                                                                                                                                                                                                                                                                                                                                                                                                                                                                                                                                                                                                                                                                                                                                                                                                                                                                                                                                                                                                                                                                                                                                                                                                                                                                                                                                                                                                                                                                                                                                                                                                                                                                                                                                                                                                                                                                                                                                                                                                                                                                                                                                                                                                                                                                                                                                                                                                                                                                                                                                                                               75\n",
       "Leave a Reply Click here to get more info on formatting (1) Leave the name field empty if you want to post as Anonymous. It's preferable that you choose a name so it becomes clear who said what. E-mail address is not mandatory either. The website automatically checks for spam. Please refer to our moderation policies for more details. We check to make sure that no comment is mistakenly marked as spam. This takes time and effort, so please be patient until your comment appears. Thanks. (2) 10 replies to a comment are the maximum. (3) Here are formating examples which you can use in your writing:<b>bold text</b> results in bold text <i>italic text</i> results in italic text (You can also combine two formating tags with each other, for example to get bold-italic text.)<em>emphasized text</em> results in emphasized text <strong>strong text</strong> results in strong text <q>a quote text</q> results in a quote text (quotation marks are added automatically) <cite>a phrase or a block of text that needs to be cited</cite> results in: a phrase or a block of text that needs to be cited <blockquote>a heavier version of quoting a block of text...</blockquote> results in: a heavier version of quoting a block of text that can span several lines. Use these possibilities appropriately. They are meant to help you create and follow the discussions in a better way. They can assist in grasping the content value of a comment more quickly. and last but not least:<a href=''http://link-address.com''>Name of your link</a> results in Name of your link (4) No need to use this special character in between paragraphs:  ; You do not need it anymore. Just write as you like and your paragraphs will be separated. The \"Live Preview\" appears automatically when you start typing below the text area and it will show you how your comment will look like before you send it. (5) If you now think that this is too confusing then just ignore the code above and write as you like. Name:                                                                                                                                                                                                                                                                                                                                                                                                                                                                                                                                                                                                                                                                                                                                                                                                                                                                                                                                                                                                                                                                                                                                                                                                                                                                                                                                                                                                                                                                                                                                                                                                                                                                                                                                                                                                                                                                                                                                                                                                                                                                                                                                                                                                                                                                                                                                                                                                                                                                                                                                                                                                                                                                                                                                                                                                                                                                                                                                                                                                                                                                                                                                                                                                                                                                                                                                                                                                                                                                                                                                                                                                                                                                                                                                                                                                                                                                                                                                                                                                                                                                                                                                                                                                                                                                                                                                                                                                                                                                                                                                                                                                                                                                                                                                                                                                                                                                                                                                                                                                                                                                                                                                                                                                                                                                                                                                                                                                                                                                                                                                                                                                                                                                                                                                                                                                                                                                                                                                                                                                                                                                                                                                                                                                                                                                                                                                                                                                                                                                                                                                                                                                          28\n",
       "source Add To The Conversation Using Facebook Comments                                                                                                                                                                                                                                                                                                                                                                                                                                                                                                                                                                                                                                                                                                                                                                                                                                                                                                                                                                                                                                                                                                                                                                                                                                                                                                                                                                                                                                                                                                                                                                                                                                                                                                                                                                                                                                                                                                                                                                                                                                                                                                                                                                                                                                                                                                                                                                                                                                                                                                                                                                                                                                                                                                                                                                                                                                                                                                                                                                                                                                                                                                                                                                                                                                                                                                                                                                                                                                                                                                                                                                                                                                                                                                                                                                                                                                                                                                                                                                                                                                                                                                                                                                                                                                                                                                                                                                                                                                                                                                                                                                                                                                                                                                                                                                                                                                                                                                                                                                                                                                                                                                                                                                                                                                                                                                                                                                                                                                                                                                                                                                                                                                                                                                                                                                                                                                                                                                                                                                                                                                                                                                                                                                                                                                                                                                                                                                                                                                                                                                                                                                                                                                                                                                                                                                                                                                                                                                                                                                                                                                                                                                                                                                                                                                                                                                                                                                                                                                                                                                                                                                                                                                                                                                                                                                                                                                                                                                                                                                                                                                                                                                                                                                                                                                                                                                                                                                                                                                                                                                                                                                                                         26\n",
       "Click Here To Learn More About Alexandra's Personalized Essences Psychic Protection Click Here for More Information on Psychic Protection! Implant Removal Series Click here to listen to the IRP and SA/DNA Process Read The Testimonials Click Here To Read What Others Are Experiencing! Copyright © 2012 by Galactic Connection. All Rights Reserved. \\nExcerpts may be used, provided that full and clear credit is given to Alexandra Meadors and www.galacticconnection.com with appropriate and specific direction to the original content. Unauthorized use and/or duplication of any material on this website without express and written permission from its author and owner is strictly prohibited. Thank you. \\nPrivacy Policy \\nBy subscribing to GalacticConnection.com you acknowledge that your name and e-mail address will be added to our database. As with all other personal information, only working affiliates of GalacticConnection.com have access to this data. We do not give GalacticConnection.com addresses to outside companies, nor will we ever rent or sell your email address. Any e-mail you send to GalacticConnection.com is completely confidential. Therefore, we will not add your name to our e-mail list without your permission. Continue reading... Galactic Connection 2016 | Design & Development by AA at Superluminal Systems Sign Up forOur Newsletter \\nJoin our newsletter to receive exclusive updates, interviews, discounts, and more. Join Us!                                                                                                                                                                                                                                                                                                                                                                                                                                                                                                                                                                                                                                                                                                                                                                                                                                                                                                                                                                                                                                                                                                                                                                                                                                                                                                                                                                                                                                                                                                                                                                                                                                                                                                                                                                                                                                                                                                                                                                                                                                                                                                                                                                                                                                                                                                                                                                                                                                                                                                                                                                                                                                                                                                                                                                                                                                                                                                                                                                                                                                                                                                                                                                                                                                                                                                                                                                                                                                                                                                                                                                                                                                                                                                                                                                                                                                                                                                                                                                                                                                                                                                                                                                                                                                                                                                                                                                                                                                                                                                                                                                                                                                                                                                                                                                                                                                                                                                                                                                                                                                                                                                                                                                                                                                                                                                                                                                                                                                                                                                                                                                                                                                                                                                                                                                                                                                                                                                                                                                                                                                                                                                                                                                                                                                                                                                                                                                                                                                                                                                                                                                                                                                                                                                                                                                                                                                                                                                                                                                                                                                                                                                                                                      26\n",
       "Nation Puts 2016 Election Into Perspective By Reminding Itself Some Species Of Sea Turtles Get Eaten By Birds Just Seconds After They Hatch WASHINGTON—Saying they felt anxious and overwhelmed just days before heading to the polls to decide a historically fraught presidential race, Americans throughout the country reportedly took a moment Thursday to put the 2016 election into perspective by reminding themselves that some species of sea turtles are eaten by birds just seconds after they hatch. Cleveland Indians Worried Team Cursed After Building Franchise On Old Native American Stereotype CLEVELAND—Having watched in horror as their team crumbled after a 3-1 World Series lead, members of the Cleveland Indians expressed concern Thursday that the organization has been cursed for building their franchise on an incredibly old Native American stereotype. Report: Election Day Most Americans’ Only Time In 2016 Being In Same Room With Person Supporting Other Candidate WASHINGTON—According to a report released Thursday by the Pew Research Center, Election Day 2016 will, for the majority of Americans, mark the only time this year they will occupy the same room as a person who supports a different presidential candidate. Nurse Reminds Elderly Man She’s Just Down The Hall If He Starts To Die DES PLAINES, IL—Assuring him that she’d be at his side in a jiffy, local nurse Wendy Kaufman reminded an elderly resident at the Briarwood Assisted Living Community that she was just down the hall if he started to die, sources reported Tuesday.                                                                                                                                                                                                                                                                                                                                                                                                                                                                                                                                                                                                                                                                                                                                                                                                                                                                                                                                                                                                                                                                                                                                                                                                                                                                                                                                                                                                                                                                                                                                                                                                                                                                                                                                                                                                                                                                                                                                                                                                                                                                                                                                                                                                                                                                                                                                                                                                                                                                                                                                                                                                                                                                                                                                                                                                                                                                                                                                                                                                                                                                                                                                                                                                                                                                                                                                                                                                                                                                                                                                                                                                                                                                                                                                                                                                                                                                                                                                                                                                                                                                                                                                                                                                                                                                                                                                                                                                                                                                                                                                                                                                                                                                                                                                                                                                                                                                                                                                                                                                                                                                                                                                                                                                                                                                                                                                                                                                                                                                                                                                                                                                                                                                                                                                                                                                                                                                                                                                                                                                                                                                                                                                                                                                                                                                                                                                                                                                                                                                                                                                                                                                                                                                                                                                                                                                                                                                                                                                                                                                                                                        11\n",
       "                                                                                                                                                                                                                                                                                                                                                                                                                                                                                                                                                                                                                                                                                                                                                                                                                                                                                                                                                                                                                                                                                                                                                                                                                                                                                                                                                                                                                                                                                                                                                                                                                                                                                                                                                                                                                                                                                                                                                                                                                                                                                                                                                                                                                                                                                                                                                                                                                                                                                                                                                                                                                                                                                                                                                                                                                                                                                                                                                                                                                                                                                                                                                                                                                                                                                                                                                                                                                                                                                                                                                                                                                                                                                                                                                                                                                                                                                                                                                                                                                                                                                                                                                                                                                                                                                                                                                                                                                                                                                                                                                                                                                                                                                                                                                                                                                                                                                                                                                                                                                                                                                                                                                                                                                                                                                                                                                                                                                                                                                                                                                                                                                                                                                                                                                                                                                                                                                                                                                                                                                                                                                                                                                                                                                                                                                                                                                                                                                                                                                                                                                                                                                                                                                                                                                                                                                                                                                                                                                                                                                                                                                                                                                                                                                                                                                                                                                                                                                                                                                                                                                                                                                                                                                                                                                                                                                                                                                                                                                                                                                                                                                                                                                                                                                                                                                                                                                                                                                                                                                                                                                                                                                                                               ..\n",
       "Email Print Hillary Clinton had many vocal celebrities on her side during the 2016 presidential election. However, the election proved that most Americans just don’t care what celebrities have to say about politics. In a recent interview, comedian Bill Burr blasted arrogant celebrities, saying, “Your ego is so f***ing big you think someone is going, ‘well, I want to vote for Trump, but if he gets elected, we lose Cher!’” I could not agree more with what Burr said. These people are celebrities and have no knowledge of foreign relations, economics, or anything other than entertainment for that matter. The liberal celebrities feel their ability to read a script translates to the right to pontificate on the most important issues facing our country. Liberals have had Hollywood in their pocket for years. Other celebrities, such as Katy Perry, Robert De Niro, and Salma Hayek, all came out to support Hillary during the election. Why on earth do these people think anyone will change their vote just because an entertainer threatens to leave the country if his or her candidate doesn’t win? Even if we did care, we all know they won’t really move their entire lives to live in another country. Case in point: have any of these anti-Trump celebrities left yet? I didn’t think so. But we should hold them to their vow! Every Hollywood liberal who threatened to leave the United States if Trump was elected should start packing their bags. Send us a postcard when you are freezing your bums off in Canada! Celebrities only demonstrate one thing when they threaten to leave the US over election results: their disgusting arrogance. Do they honestly think they have a better idea about the economic conditions of the middle class than those actually living in the middle class? No. They just think they’re entitled to the support of their fans. If they could come down to reality for two seconds and look at the election results, clearly regular Americans don’t agree. To be frank, we care more about the future of our country than we do about any of these celebrities. Don’t worry—we’ll remember your hypocrisy and self-absorption when you threaten to leave if Trump is re-elected in 2020. What do you think of Bill Burr’s comments on Hollywood liberals? Please share this story on Facebook and tell us what you think because we want to hear YOUR voice! \\nIf you haven’t checked out and liked our Facebook page, please go here and do so. Leave a comment...                                                                                                                                                                                                                                                                                                                                                                                                                                                                                                                                                                                                                                                                                                                                                                                                                                                                                                                                                                                                                                                                                                                                                                                                                                                                                                                                                                                                                                                                                                                                                                                                                                                                                                                                                                                                                                                                                                                                                                                                                                                                                                                                                                                                                                                                                                                                                                                                                                                                                                                                                                                                                                                                                                                                                                                                                                                                                                                                                                                                                                                                                                                                                                                                                                                                                                                                                                                                                                                                                                                                                                                                                                                                                                                                                                                                                                                                                                                                                                                                                                                                                                                                                                                                                                                                                                                                                                                                                                                                                                                                                                                                                                                                                                                                                                                                                                                                                                                                                                                                                                                                                                                                                                                                                                                                                                                                                                                                                                                                                                                                                                                                                                                                                                                                                                                                                                                                                                                                                                                                                                                                                                       1\n",
       "PHILADELPHIA  —   Forty times, city or state governments had proposed taxes on sugary soft drinks, failing each time. Then, in 2014, liberal Berkeley, Calif. passed such a tax, but most people saw it as an aberration. Several measures, including one in New York, never won much support. But on Thursday, a measure to tax sweetened drinks passed in Philadelphia, one of the country’s largest cities  —   and also one of its poorest. Indeed, raising revenue was the winning argument in Philadelphia. Jim Kenney, the mayor, took a different tack from that of politicians who have tried and failed to pass   taxes. He didn’t talk about the tax as a   measure designed to discourage   soft drinks. And he didn’t promise to earmark the proceeds for health programs. Instead, he cast the soft drink industry as a tantalizing revenue source that could be tapped to fund popular city programs, including universal prekindergarten. “This is the beginning of a process of changing the narrative of poverty in our city,” he said in a news conference after the vote. The advocates who have pushed for the policy say the victory is a sign of growing public acceptance of soft drink taxes and presages more such measures around the country. Though city officials didn’t talk much about the health consequences of soda, experts said that sugary drinks’ increasingly bad reputation made it an appropriate political target. “If we go five years ahead and look back, I think this is going to be a watershed moment,” said Jim Krieger, executive director at Healthy Food America, an organization that is helping cities around the country that are considering soda taxes. “This is going to really provide momentum. ” San Francisco Oakland, Calif. and Boulder, Colo. are considering soft drink taxes this year. Mr. Krieger said the list of interested cities included some that were as large and diverse as Philadelphia. Mr. Kenney said he hadn’t yet spoken directly with officials from other cities, but he had advice for them. “Tie your efforts to tangible initiatives that people care about,” he said in his news conference. “When it comes up, acknowledge that it is a good thing to drink less   beverages, but tie it to things that people care about. ” The Philadelphia tax of 1. 5 cents an ounce will apply to all sugary or artificially sweetened drinks sold by distributors in the city. It is expected to increase prices  —   the tax is about 30 cents for a   drink, or $2. 16 for a  . If passed on to consumers, the increase is expected to substantially reduce sales of sweetened drinks. The city finance department estimates it will raise $91 million a year. Sugary drinks have been linked to health problems, including obesity, diabetes and tooth decay, but the public health effects of the taxes are still unclear. Philadelphia is likely to become the site of public health research. Thomas Farley, the city’s health commissioner, said the city had already planned to measure the tax’s immediate effects on sales.   studies will measure any impact on obesity. The soft drink industry and its allies, including the Teamsters union and local grocers, spent nearly $5 million on lobbying and advertising to fight the tax in Philadelphia. They held rallies and demonstrations downtown and ran   ads on television and the radio, right up until Thursday’s final vote. They branded the drinks tax measure a “grocery tax,” suggesting that more food products were next. The soda industry has argued that Philadelphia’s politics are unusual and that the vote here can’t be seen as predictive. The American Beverage Association, a trade group, has vowed to fight the measure in the courts. “It’s still a bad idea,” said Lauren Kane, a spokeswoman for the group. “People still oppose it. Nothing has changed. ” Thursday, the industry and its allies vented frustration. Daniel Grace, the secretary and treasurer of the Teamsters local, said advocates had “snookered City Council,” and he described the tax as a “brazen cash grab from one industry. ” The promise of prekindergarten energized the city’s education advocates, who joined with public health advocates. The coalition spent about $2 million on advertisements, according to Kevin Feeley, a spokesman for Philadelphians for a Fair Future, a group supporting the tax. That total included $1. 6 million in donations from Michael R. Bloomberg, the former New York mayor, who has long supported soda taxes. But Mr. Kenney’s focus on revenue also allowed him to help cut deals with skeptical city councilors. Ultimately, the soft drink tax revenue won’t pay just for prekindergarten, but for a host of city programs, reflecting the priorities of the council members who voted for it.                                                                                                                                                                                                                                                                                                                                                                                                                                                                                                                                                                                                                                                                                                                                                                                                                                                                                                                                                                                                                                                                                                                                                                                                                                                                                                                                                                                                                                                                                                                                                                                                                                                                                                                                                                                                                                                                                                                                                                                                                                                                                                                                                                                                                                                                                                                                                                                                                                                                                                                                                                                                                                                                                                                                                                                                                                                                                                                                                                                                                                                                                                                                                                                                                                                                                                                                                                                                                                                                                                                                                                                                                                                                                                                                                           1\n",
       "WASHINGTON  —   The White House on Friday revived President Trump’s unproven wiretapping allegations against the Obama administration, insisting that there is new evidence that it conducted “politically motivated” surveillance of Mr. Trump’s presidential campaign. Senior government officials, including James B. Comey, the F. B. I. director, and lawmakers from both parties, have repeatedly and forcefully rejected the president’s claim, saying they have seen no evidence of direct surveillance. A spokesman for former President Barack Obama has denied that Mr. Obama ever ordered surveillance of Mr. Trump or his associates. But Sean Spicer, the White House press secretary, asserted to reporters during his daily news briefing that members of Mr. Obama’s administration had done “very, very bad things,” just as Mr. Trump alleged without proof on March 4 when he posted messages on Twitter accusing Mr. Obama of “wire tapping” his phones at Trump Tower. “The question is why? Who else did it? Was it ordered? By whom?” Mr. Spicer said. “But I think more and more the substance that continues to come out on the record by individuals continues to point to exactly what the president was talking about that day. ” Mr. Spicer appeared to be basing his assertions on reports from   news outlets that took out of context a   interview with a former Obama administration official. Mr. Spicer’s comments came in the midst of a drumbeat of developments in the multiple investigations into Russian contacts with Mr. Trump’s associates, and a week after the president failed to make good on his campaign promise to replace Mr. Obama’s signature health care law. The two story lines have helped drag down Mr. Trump’s approval ratings, which slumped to a low of 35 percent in Gallup’s tracking poll on Wednesday. Mr. Spicer’s remarks on Friday seemed designed to give new life to the allegations against Mr. Obama after weeks of trying to focus attention on the damage that Mr. Spicer said had been caused by leaks from the investigations into Russia’s involvement in the 2016 presidential campaign. The allegations dominated his briefing, crowding out other parts of the White House agenda, including the president’s signing of two executive orders on trade and meeting with manufacturing executives. Mr. Trump hastily left that signing ceremony without adding his signature to the trade orders as a reporter shouted a question about possible testimony in the Russia inquiry by Michael T. Flynn, his former national security adviser. The White House said Mr. Trump signed the directives later. At Mr. Spicer’s news conference, the press secretary chastised reporters for failing to accept that Mr. Trump had been right all along. “The substance we are talking about continues to move exactly in the direction that the president spoke about in terms of surveillance that occurred,” Mr. Spicer said, even as he deflected questions about the White House’s role in providing intelligence reports to Representative Devin Nunes, Republican of California, the chairman of the House Intelligence Committee. The senior Democrat on that committee, Representative Adam B. Schiff of California, arrived later in the day at the White House to view the intelligence reports. In a statement, Mr. Schiff confirmed that they were the same materials Mr. Nunes had seen, and said that nothing justified Mr. Nunes’s failure to share them with the entire committee. “The White House has yet to explain why senior White House staff apparently shared these materials with but one member of either committee, only for their contents to be briefed back to the White House,” Mr. Schiff said in a statement. Mr. Spicer provided no evidence of the surveillance allegations. But he pointed several times to news reports that he claimed backed up the president’s accusations. One was a March 2 interview with Evelyn Farkas, who served as deputy assistant secretary of defense in the Obama administration until leaving the government in October 2015. TheGatewayPundit. com, a   site, called it a “notorious” interview and said it proved Obama administration officials had disseminated “intel gathered on the Trump team. ” Reince Priebus, the White House chief of staff, said on the Hugh Hewitt radio show that Ms. Farkas had made “just an incredible statement. ” Breitbart News reported on Mr. Priebus’s comments. The comments by Ms. Farkas, Mr. Spicer said, were evidence that Mr. Trump or his associates “were surveilled, had their information unmasked, made it available, was politically spread. ” He said that such stories were proof that Obama administration officials had “misused, mishandled and potentially did some very, very bad things with classified information. ” In fact, the reports do not back up the allegations that Mr. Trump or any officials in his campaign were ever under surveillance. In the March 2 interview on MSNBC’s “Morning Joe” program, Ms. Farkas said she had expressed concern to her former colleagues about the need to secure intelligence related to the Russian hacking of the American election. Ms. Farkas was commenting on a New York Times article a day earlier that documented how in the days before Mr. Trump’s inauguration, Obama administration officials had sought to ensure the preservation of those documents in order to leave a clear trail for government investigators after Mr. Trump took office. In a statement she gave to The American Spectator, a conservative publication, Ms. Farkas said the furor over her remarks was “a wild misinterpretation of comments I made on the air in March. ” She added, “I was out of government, I didn’t have any classified information, or any knowledge of ‘tapping’ or leaking or the N. Y. T. article before it came out. ” White House officials also confronted on Friday the disclosure that Mr. Flynn, who resigned in February over his contacts with Russian officials, has offered to testify before the two congressional committees investigating the Trump campaign’s ties to Russia about those contacts in exchange for immunity from prosecution. Mr. Trump said on Twitter on Friday morning that he agreed with Mr. Flynn’s proposal. “Mike Flynn should ask for immunity in that this is a witch hunt (excuse for big election loss) by media  Dems, of historic proportion!” Mr. Trump wrote. The president has been eager to dismiss as “fake news” all allegations that members of his campaign colluded with the Russians, and the post appeared to be an effort to discredit the congressional inquiries that are examining those claims. It also appeared to be aimed at defusing any speculation that Mr. Flynn might be seeking immunity because he has incriminating information to share about Mr. Trump or his associates. It was not clear from the president’s post on Friday whether he fully appreciated the potential effect on his administration if Mr. Flynn received immunity to participate fully in the investigation. Mr. Trump has said previously that seeking protection from prosecution is a telltale sign of wrongdoing. “If you’re not guilty of a crime, what do you need immunity for, right?” he said in September at a campaign rally in Orlando, Fla. Mr. Trump was referring to Hillary Clinton aides who received immunity during an F. B. I. inquiry into her use of a private email server. Mr. Spicer declined to address the inconsistency, telling reporters on Friday only that Mr. Trump “believes that Mike Flynn should go testify. ” “He thinks that he should go up there and do what he has to do to get the story out,” Mr. Spicer said. The F. B. I. is investigating whether any of Mr. Trump’s advisers colluded with Russia in its efforts to disrupt the 2016 election. An immunity deal would make it extraordinarily difficult for the Justice Department to prosecute Mr. Flynn. Mr. Schiff said Mr. Flynn’s decision to seek immunity from prosecution was a “grave and momentous step,” but not one that investigators were ready to consider at this stage. “While Mr. Flynn’s testimony is of great interest to our committee, we are also deeply mindful of the interests of the Justice Department in the matter,” Mr. Schiff said in a statement. He added that before considering immunity for any witness in the inquiry, “we will of course require a detailed proffer of any intended testimony. ”     1\n",
       "The White House floated an idea on Thursday afternoon that, in initial reports, sounded like a major tariff on Mexican imports  —   something that would have gone a long way toward unwinding one of the United States’ deepest economic relationships. The reality of what Sean Spicer, the press secretary, suggested is a lot less dramatic. But it sends important signals about how people in the Trump administration are thinking about overhauling the tax code  —   and how they’re thinking about claiming victory on some of the president’s audacious campaign promises. It is a sign of just how fluid things are in this moment when so much of American public policy around taxes, trade and diplomacy is in flux. Mr. Spicer suggested a way the administration could accomplish President Trump’s goal of building a border wall paid for by Mexico. A 20 percent tax on imports from Mexico would do the trick, Mr. Spicer said. That might sound as if Mr. Spicer was proposing that the United States slap a new tariff meant to punish Mexican exporters. Such a move would result in higher prices for American consumers, create profound challenges for industries with supply chains that span the border, and possibly prompt the collapse of the North American Free Trade Agreement. But you get a different picture when you put Mr. Spicer’s words into the context of the rapidly evolving debate in Washington around overhauling corporate taxation. He was pointing out that in an overhaul of taxes that House Republicans are considering, imports from all countries would be taxed at 20 percent while American exports would be tax free. It’s called border adjustment, and it would make the United States corporate tax code more closely resemble the   tax that is commonplace in other countries. House Republicans see the policy as a way to reshape the tax code to give businesses less incentive to move operations overseas while also generating revenue they can use to reduce tax rates. Opponents of the plan, which include major retailers, are skeptical. Among the risks: It could drive up consumer prices for all sorts of imported goods, from German cars to Mexican avocados, if the dollar does not rise as much as economists predict. And the policy may violate World Trade Organization rules, which could tangle it up in legal proceedings. But that Mr. Spicer was floating that plan as a way to fulfill Mr. Trump’s Mexican wall promises is interesting on two levels. First, less than two weeks ago, the    threw cold water on the House plan. “Anytime I hear border adjustment, I don’t love it,” Mr. Trump told The Wall Street Journal. “Because usually it means we’re going to get adjusted into a bad deal. ” On Thursday, Mr. Spicer was explicitly suggesting that a border tax could be used to pay for a border wall. Referring to the tax plan, he said, “This is something that we’ve been in close contact with both houses in moving forward. ” The border adjustment strategy has plenty of enemies, and there’s no certainty that it will become part of a tax overhaul bill. But the latest tea leaves suggest the administration is more open to it than it may have seemed. The second lesson from the incident is that the Trump administration looks inclined to be flexible in finding ways to satisfy campaign promises without doing major damage to the economy or international relations. Thursday was one of the roughest days for relations between the United States and Mexico in some time, with the cancellation of a planned visit by President Enrique Peña Nieto and tough talk from Mexico City, which adamantly refuses to pay for an expansion of a border wall. But Mr. Spicer’s comments, which he later said were meant more to offer an example than a concrete policy proposal, suggest that the administration will look for creative ways to proclaim victory on Trumpian promises. In other words, he will proclaim that Mexico has paid for the wall as promised  —   even if the Mexican government never literally cuts a check to pay for new concrete. Advocates of the border adjustment tax have been fond of it because it would produce enough revenue to allow a deep reduction in tax rates. But money is fungible. So if the president can claim political victory by stating that the revenue from Mexican imports is going to pay for the wall, no one is going to stop him. It is a messy time for the making of economic policy. The Trump campaign was notoriously light on policy detail, and the Trump administration still has many key vacancies in economic policy jobs. Nominees for Treasury secretary, commerce secretary and U. S. trade representative have not yet been confirmed, and key jobs on the Council of Economic Advisers and most undersecretary and assistant secretary jobs remain unfilled. So the gaps are still being filled in on what the Trump administration economic policy will really mean in practice. The way to read the latest Mexico comments is as one more hint.                                                                                                                                                                                                                                                                                                                                                                                                                                                                                                                                                                                                                                                                                                                                                                                                                                                                                                                                                                                                                                                                                                                                                                                                                                                                                                                                                                                                                                                                                                                                                                                                                                                                                                                                                                                                                                                                                                                                                                                                                                                                                                                                                                                                                                                                                                                                                                                                                                                                                                                                                                                                                                                                                                                                                                                                                                                                                                                                                                                                                                                                                                                                                                                                                                                                                                                                                                                                                                                                                                      1\n",
       "  David Swanson is an author, activist, journalist, and radio host. He is a 2015 Nobel Peace Prize Nominee. He is director of WorldBeyondWar.com and campaign coordinator for RootsAction.org . He hosts Talk Nation Radio . Talk Nation Radio is on VT Radio and is syndicated by Pacifica Network. The show also airs on WTJU, Charlottesville, VA; WCSX-Detroit, MI; KGHI, Westport, WA; WHUS, Storrs, CT; WPRR, Grand Rapids, MI; KRFP-LP, Moscow, ID; KZGM, Cabool, MO; KMUD, Garberville, CA; WAZU, Peoria, IL; WXRD, Crown Point, IN; Geneva Radio, Geneva, NY; KKRN, Round Mountain, CA; KSKQ-LP, Ashland, OR; WUOW-LP, Oneonta, NY; No Lies Radio, Pinole, CA; WYAP-LP, Clay, WV; The Detour, Johnson City, TN; WZRD, Chicago, IL; WEFT, Champaign, IL; WXPI, Pittsburgh, PA; WDRT, Viroqua, WI; Veracity Now, online; Liberty and Justice Radio, Shirley, MA; Ithaca Community Radio, Ithaca, NY; WMCB, Greenfield, MA; PRX.org; KAOS 89.3fm, Olympia, WA; WUSB 90.1 FM, Stony Brook, NY; WOOL-FM, Bellow Falls, Vermont; WSLR-LP 96.5 in Sarasota, Florida. He also blogs at DavidSwanson.org and WarIsACrime.org And is a prolific author. His latest books are; War Is A Lie , Daybreak: Undoing the Imperial Presidency and Forming a More Perfect Union , and When the World Outlawed War Swanson holds a master's degree in philosophy from the University of Virginia. He has worked as a newspaper reporter and as a communications director, with jobs including press secretary for Dennis Kucinich's 2004 presidential campaign, media coordinator for the International Labor Communications Association, and three years as communications coordinator for ACORN, the Association of Community Organizations for Reform Now. Read his full and complete biography at DavidSwanson.org and also visit book site at War Is Crime . What Keeps the F-35 Alive By David Swanson on October 31, 2016 Petition to Stop F-35 Going Global \\nby David Swanson \\nImagine if a local business in your town invented a brand new tool that was intended to have an almost magical effect thousands of miles away. However, where the tool was kept and used locally became an area unsafe for children. Children who got near this tool tended to have increased blood pressure and increased stress hormones, lower reading skills, poorer memories, impaired auditory and speech perception, and impaired academic performance. \\nMost of us would find this situation at least a little concerning, unless the new invention was designed to murder lots of people. Then it’d be just fine. \\nNow, imagine if this same new tool ruined neighborhoods because people couldn’t safely live near it. Imagine if the government had to compensate people but kick them out of living near the location of this tool. Again, I think, we might find that troubling if mass murder were not the mission. \\nImagine also that this tool fairly frequently explodes, emitting highly toxic chemicals, particles, and fibers unsafe to breathe into the air for miles around. Normally, that’d be a problem. But if this tool is needed for killing lots of people, we’ll work with its flaws, won’t we? \\nNow, what if this new gadget was expected to cost at least $1,400,000,000,000 over 50 years? And what if that money had to be taken away from numerous other expenses more beneficial for the economy and the world? What if the $1.4 trillion was drained out of the economy causing a loss of jobs and a radical diminuition of resources for education, healthcare, housing, environmental protection, or humanitarian aid? Wouldn’t that be a worry in some cases, I mean in those cases where the ability to kill tons of human beings wasn’t at stake? \\nWhat if this product, even when working perfectly, was a leading destroyer of the earth’s natural environment? \\nWhat if this high-tech toy wasn’t even designed to do what was expected of it and wasn’t even able to do what it was designed for? \\nAmazingly, even those shortcomings do not matter as long as the intention is massive murder and destruction. Then, all is forgiven. \\nThe tool I’m describing is called the F-35. At RootsAction.org you can find a new petition launched by locally-minded people acting globally in places where the F-35 is intended to be based. Also at that link you’ll find explanations of how the tool I’ve been decribing is the F-35. \\nThe petition is directed to the United States Congress and the governments of Australia, Italy, the Netherlands, Norway, Turkey, the United Kingdom, Israel, Japan and South Korea from the world and from the people of Burlington, Vermont, and Fairbanks, Alaska, where the F-35 is to be based. This effort is being initiated by Vermont Stop the F35 Coalition, Save Our Skies Vermont, Western Maine Matters, Alaska Peace Center, University of Alaska Fairbanks Peace Club, North Star Chapter 146 Veterans For Peace, World Beyond War, RootsAction.org, Code Pink, and Ben Cohen. \\nThe petition reads: \\nThe F-35 is a weapon of offensive war, serving no defensive purpose. It is planned to cost the U.S. $1.4 trillion over 50 years. Because starvation on earth could be ended for $30 billion and the lack of clean drinking water for $11 billion per year, it is first and foremost through the wasting of resources that this airplane will kill. Military spending, contrary to popular misconception, also hurts the U.S. economy ( see here ) and other economies. The F-35 causes negative health impacts and cognitive impairment in children living near its bases. It renders housing near airports unsuitable for residential use. It has a high crash rate and horrible consequences to those living in the area of its crashes. Its emissions are a major environmental polluter. \\nWars are endangering the United States and other participating nations rather than protecting them. Nonviolent tools of law, diplomacy, aid, crisis prevention, and verifiable nuclear disarmament should be substituted for continuing counterproductive wars. Therefore, we, the undersigned, call for the immediate cancellation of the F-35 program as a whole, and the immediate cancellation of plans to base any such dangerous and noisy jets near populated areas. We oppose replacing the F-35 with any other weapon or basing the F-35 in any other locations. We further demand redirection of the money for the F-35 back into taxpayers’ pockets, and into environmental and human needs in the U.S., other F-35 customer nations, and around the world, including to fight climate change, pay off student debt, rebuild crumbling infrastructure, and improve education, healthcare, and housing. \\nAdd your name . \\nDavid Swanson is an author, activist, journalist, and radio host. He is director of WorldBeyondWar.org and campaign coordinator for RootsAction.org . Swanson’s books include War Is A Lie . He blogs at DavidSwanson.org and WarIsACrime.org . He hosts Talk Nation Radio .He is a 2015 and 2016 Nobel Peace Prize Nominee. \\nFollow him on Twitter: @davidcnswanson and FaceBook . \\nHelp support DavidSwanson.org, WarIsACrime.org, and TalkNationRadio.org by clicking here: http://davidswanson.org/donate .                                                                                                                                                                                                                                                                                                                                                                                                                                                                                                                                                                                                                                                                                                                                                                                                                                                                                                                                                                                                                                                                                                                                                                                                                                                                                                           1\n",
       "Name: count, Length: 20386, dtype: int64"
      ]
     },
     "execution_count": 66,
     "metadata": {},
     "output_type": "execute_result"
    }
   ],
   "source": [
    "data['text'].value_counts()"
   ]
  },
  {
   "cell_type": "code",
   "execution_count": 68,
   "id": "b74663e7-aaf7-491a-939b-d62d038a0339",
   "metadata": {},
   "outputs": [
    {
     "data": {
      "text/plain": [
       "author\n",
       "Pam Key                                      243\n",
       "admin                                        193\n",
       "Jerome Hudson                                166\n",
       "Charlie Spiering                             141\n",
       "John Hayward                                 140\n",
       "                                            ... \n",
       "Jeremy R. Hammond                              1\n",
       "Vic Bishop                                     1\n",
       "Douglas Martin                                 1\n",
       "Najim Rahim and Fahim Abed                     1\n",
       "Michael J. de la Merced and Rachel Abrams      1\n",
       "Name: count, Length: 4201, dtype: int64"
      ]
     },
     "execution_count": 68,
     "metadata": {},
     "output_type": "execute_result"
    }
   ],
   "source": [
    "data['author'].value_counts()"
   ]
  },
  {
   "cell_type": "code",
   "execution_count": 51,
   "id": "50323ad9-3dc0-4862-84ef-f39ac73f18a8",
   "metadata": {},
   "outputs": [
    {
     "data": {
      "text/plain": [
       "date\n",
       "May 10, 2017         46\n",
       "May 26, 2016         44\n",
       "May 6, 2016          44\n",
       "May 5, 2016          44\n",
       "May 11, 2016         43\n",
       "                     ..\n",
       "December 9, 2017      1\n",
       "December 4, 2017      1\n",
       "November 19, 2017     1\n",
       "November 20, 2017     1\n",
       "Jul 19, 2015          1\n",
       "Name: count, Length: 1681, dtype: int64"
      ]
     },
     "execution_count": 51,
     "metadata": {},
     "output_type": "execute_result"
    }
   ],
   "source": [
    "data['date'].value_counts()"
   ]
  },
  {
   "cell_type": "code",
   "execution_count": 69,
   "id": "8634ed63-a01b-4b19-a445-d3a6a37c5a74",
   "metadata": {},
   "outputs": [
    {
     "name": "stderr",
     "output_type": "stream",
     "text": [
      "[nltk_data] Downloading package stopwords to\n",
      "[nltk_data]     /home/krishna/nltk_data...\n",
      "[nltk_data]   Package stopwords is already up-to-date!\n"
     ]
    },
    {
     "data": {
      "text/plain": [
       "True"
      ]
     },
     "execution_count": 69,
     "metadata": {},
     "output_type": "execute_result"
    }
   ],
   "source": [
    "import nltk\n",
    "nltk.download('stopwords')"
   ]
  },
  {
   "cell_type": "code",
   "execution_count": 70,
   "id": "10517c13-5458-4d79-a38b-d5ff17becf7e",
   "metadata": {},
   "outputs": [
    {
     "name": "stdout",
     "output_type": "stream",
     "text": [
      "['i', 'me', 'my', 'myself', 'we', 'our', 'ours', 'ourselves', 'you', \"you're\", \"you've\", \"you'll\", \"you'd\", 'your', 'yours', 'yourself', 'yourselves', 'he', 'him', 'his', 'himself', 'she', \"she's\", 'her', 'hers', 'herself', 'it', \"it's\", 'its', 'itself', 'they', 'them', 'their', 'theirs', 'themselves', 'what', 'which', 'who', 'whom', 'this', 'that', \"that'll\", 'these', 'those', 'am', 'is', 'are', 'was', 'were', 'be', 'been', 'being', 'have', 'has', 'had', 'having', 'do', 'does', 'did', 'doing', 'a', 'an', 'the', 'and', 'but', 'if', 'or', 'because', 'as', 'until', 'while', 'of', 'at', 'by', 'for', 'with', 'about', 'against', 'between', 'into', 'through', 'during', 'before', 'after', 'above', 'below', 'to', 'from', 'up', 'down', 'in', 'out', 'on', 'off', 'over', 'under', 'again', 'further', 'then', 'once', 'here', 'there', 'when', 'where', 'why', 'how', 'all', 'any', 'both', 'each', 'few', 'more', 'most', 'other', 'some', 'such', 'no', 'nor', 'not', 'only', 'own', 'same', 'so', 'than', 'too', 'very', 's', 't', 'can', 'will', 'just', 'don', \"don't\", 'should', \"should've\", 'now', 'd', 'll', 'm', 'o', 're', 've', 'y', 'ain', 'aren', \"aren't\", 'couldn', \"couldn't\", 'didn', \"didn't\", 'doesn', \"doesn't\", 'hadn', \"hadn't\", 'hasn', \"hasn't\", 'haven', \"haven't\", 'isn', \"isn't\", 'ma', 'mightn', \"mightn't\", 'mustn', \"mustn't\", 'needn', \"needn't\", 'shan', \"shan't\", 'shouldn', \"shouldn't\", 'wasn', \"wasn't\", 'weren', \"weren't\", 'won', \"won't\", 'wouldn', \"wouldn't\"]\n"
     ]
    }
   ],
   "source": [
    "print(stopwords.words('english'))"
   ]
  },
  {
   "cell_type": "code",
   "execution_count": 71,
   "id": "483af0d4-e3db-4bb1-a474-a4a436f6b6b1",
   "metadata": {},
   "outputs": [
    {
     "data": {
      "text/plain": [
       "id           0\n",
       "title      558\n",
       "author    1957\n",
       "text        39\n",
       "label        0\n",
       "dtype: int64"
      ]
     },
     "execution_count": 71,
     "metadata": {},
     "output_type": "execute_result"
    }
   ],
   "source": [
    "# Checking for missing values\n",
    "data.isnull().sum()"
   ]
  },
  {
   "cell_type": "code",
   "execution_count": 73,
   "id": "84cb0db4-2b64-41aa-a5c1-18285ff805a3",
   "metadata": {},
   "outputs": [],
   "source": [
    "#fill emply values\n",
    "data=data.fillna('')\n"
   ]
  },
  {
   "cell_type": "code",
   "execution_count": 74,
   "id": "1398bb2a-a008-4709-8466-297fbd0eb304",
   "metadata": {},
   "outputs": [],
   "source": [
    "data['content'] = data['author'] + ' ' + data['title'] "
   ]
  },
  {
   "cell_type": "code",
   "execution_count": 76,
   "id": "5cf93a8d-21d4-4092-b77f-5b42d3ddc50e",
   "metadata": {},
   "outputs": [
    {
     "data": {
      "text/plain": [
       "0        Darrell Lucus House Dem Aide: We Didn’t Even S...\n",
       "1        Daniel J. Flynn FLYNN: Hillary Clinton, Big Wo...\n",
       "2        Consortiumnews.com Why the Truth Might Get You...\n",
       "3        Jessica Purkiss 15 Civilians Killed In Single ...\n",
       "4        Howard Portnoy Iranian woman jailed for fictio...\n",
       "                               ...                        \n",
       "20795    Jerome Hudson Rapper T.I.: Trump a ’Poster Chi...\n",
       "20796    Benjamin Hoffman N.F.L. Playoffs: Schedule, Ma...\n",
       "20797    Michael J. de la Merced and Rachel Abrams Macy...\n",
       "20798    Alex Ansary NATO, Russia To Hold Parallel Exer...\n",
       "20799              David Swanson What Keeps the F-35 Alive\n",
       "Name: content, Length: 20800, dtype: object"
      ]
     },
     "execution_count": 76,
     "metadata": {},
     "output_type": "execute_result"
    }
   ],
   "source": [
    "data['content']"
   ]
  },
  {
   "cell_type": "markdown",
   "id": "976a5e63-fc70-4f7e-95b0-ff845d962dd9",
   "metadata": {},
   "source": [
    "Stemmming\n",
    "\n",
    "Stemming is the process of reducing a word to its word stem that affixes to suffixes and prefixes or to the roots of words known as a lemma. Stemming is important in natural language understanding (NLU) and natural language processing (NLP). Stemming is also a part of queries and Internet search engines. Stemming is the process of producing morphological variants of a root/base word. Stemming programs are commonly referred to as stemming algorithms or stemmers. An example of stemming would be that the words “fish,” “fishes,” and “fishing” all stem from the same root word, “fish.\""
   ]
  },
  {
   "cell_type": "code",
   "execution_count": 78,
   "id": "f4336680-01fc-4fe1-b34f-7a49636e83d8",
   "metadata": {},
   "outputs": [],
   "source": [
    "pStem = PorterStemmer()"
   ]
  },
  {
   "cell_type": "code",
   "execution_count": 79,
   "id": "08c2b3ab-fd61-48a5-8d6c-a9ee704cd017",
   "metadata": {},
   "outputs": [],
   "source": [
    "def stemming(myinfo):\n",
    "    stemmed_info = re.sub('[^a-zA-Z]', ' ', myinfo)\n",
    "    stemmed_info = stemmed_info.lower()\n",
    "    stemmed_info = stemmed_info.split()\n",
    "    stemmed_info = [pStem.stem(word) for word in stemmed_info if not word in stopwords.words('english')]\n",
    "    stemmed_info = ' '.join(stemmed_info)\n",
    "    return stemmed_info"
   ]
  },
  {
   "cell_type": "code",
   "execution_count": 80,
   "id": "9f839601-3e31-4eae-96b6-c05ea6bc706d",
   "metadata": {},
   "outputs": [],
   "source": [
    "data['content'] = data['content'].apply(stemming)"
   ]
  },
  {
   "cell_type": "code",
   "execution_count": 81,
   "id": "39aed0d5-31f0-4cb8-b502-282a4b9dc4de",
   "metadata": {},
   "outputs": [],
   "source": [
    "X = data['content'].values\n",
    "y = data['label'].values"
   ]
  },
  {
   "cell_type": "code",
   "execution_count": 82,
   "id": "37f36c5a-e313-45cd-a1d6-688de79e071c",
   "metadata": {},
   "outputs": [],
   "source": [
    "# converting textual data to numerical data\n",
    "vectorizer = TfidfVectorizer()\n",
    "\n",
    "vectorizer.fit(X)\n",
    "X = vectorizer.transform(X)"
   ]
  },
  {
   "cell_type": "markdown",
   "id": "034b68a4-4bde-4ca0-9cfe-10fc3d491e2b",
   "metadata": {},
   "source": [
    "#Spliting Data into text"
   ]
  },
  {
   "cell_type": "code",
   "execution_count": 86,
   "id": "6041f25a-28c7-4753-9c49-5da223c3e6eb",
   "metadata": {},
   "outputs": [],
   "source": [
    "X_train, X_test, y_train, y_test = train_test_split(X, y, test_size=0.2, stratify=y, random_state= 2)"
   ]
  },
  {
   "cell_type": "markdown",
   "id": "32878e85-9fcf-496d-acee-6502ef954517",
   "metadata": {},
   "source": [
    "Training the model: logistic regression"
   ]
  },
  {
   "cell_type": "code",
   "execution_count": 87,
   "id": "c8717082-85f9-49b3-86d2-710ddd92dfe7",
   "metadata": {},
   "outputs": [],
   "source": [
    "model = LogisticRegression()"
   ]
  },
  {
   "cell_type": "code",
   "execution_count": 88,
   "id": "04125207-123b-4faf-8315-545d0258f866",
   "metadata": {},
   "outputs": [
    {
     "data": {
      "text/html": [
       "<style>#sk-container-id-1 {color: black;}#sk-container-id-1 pre{padding: 0;}#sk-container-id-1 div.sk-toggleable {background-color: white;}#sk-container-id-1 label.sk-toggleable__label {cursor: pointer;display: block;width: 100%;margin-bottom: 0;padding: 0.3em;box-sizing: border-box;text-align: center;}#sk-container-id-1 label.sk-toggleable__label-arrow:before {content: \"▸\";float: left;margin-right: 0.25em;color: #696969;}#sk-container-id-1 label.sk-toggleable__label-arrow:hover:before {color: black;}#sk-container-id-1 div.sk-estimator:hover label.sk-toggleable__label-arrow:before {color: black;}#sk-container-id-1 div.sk-toggleable__content {max-height: 0;max-width: 0;overflow: hidden;text-align: left;background-color: #f0f8ff;}#sk-container-id-1 div.sk-toggleable__content pre {margin: 0.2em;color: black;border-radius: 0.25em;background-color: #f0f8ff;}#sk-container-id-1 input.sk-toggleable__control:checked~div.sk-toggleable__content {max-height: 200px;max-width: 100%;overflow: auto;}#sk-container-id-1 input.sk-toggleable__control:checked~label.sk-toggleable__label-arrow:before {content: \"▾\";}#sk-container-id-1 div.sk-estimator input.sk-toggleable__control:checked~label.sk-toggleable__label {background-color: #d4ebff;}#sk-container-id-1 div.sk-label input.sk-toggleable__control:checked~label.sk-toggleable__label {background-color: #d4ebff;}#sk-container-id-1 input.sk-hidden--visually {border: 0;clip: rect(1px 1px 1px 1px);clip: rect(1px, 1px, 1px, 1px);height: 1px;margin: -1px;overflow: hidden;padding: 0;position: absolute;width: 1px;}#sk-container-id-1 div.sk-estimator {font-family: monospace;background-color: #f0f8ff;border: 1px dotted black;border-radius: 0.25em;box-sizing: border-box;margin-bottom: 0.5em;}#sk-container-id-1 div.sk-estimator:hover {background-color: #d4ebff;}#sk-container-id-1 div.sk-parallel-item::after {content: \"\";width: 100%;border-bottom: 1px solid gray;flex-grow: 1;}#sk-container-id-1 div.sk-label:hover label.sk-toggleable__label {background-color: #d4ebff;}#sk-container-id-1 div.sk-serial::before {content: \"\";position: absolute;border-left: 1px solid gray;box-sizing: border-box;top: 0;bottom: 0;left: 50%;z-index: 0;}#sk-container-id-1 div.sk-serial {display: flex;flex-direction: column;align-items: center;background-color: white;padding-right: 0.2em;padding-left: 0.2em;position: relative;}#sk-container-id-1 div.sk-item {position: relative;z-index: 1;}#sk-container-id-1 div.sk-parallel {display: flex;align-items: stretch;justify-content: center;background-color: white;position: relative;}#sk-container-id-1 div.sk-item::before, #sk-container-id-1 div.sk-parallel-item::before {content: \"\";position: absolute;border-left: 1px solid gray;box-sizing: border-box;top: 0;bottom: 0;left: 50%;z-index: -1;}#sk-container-id-1 div.sk-parallel-item {display: flex;flex-direction: column;z-index: 1;position: relative;background-color: white;}#sk-container-id-1 div.sk-parallel-item:first-child::after {align-self: flex-end;width: 50%;}#sk-container-id-1 div.sk-parallel-item:last-child::after {align-self: flex-start;width: 50%;}#sk-container-id-1 div.sk-parallel-item:only-child::after {width: 0;}#sk-container-id-1 div.sk-dashed-wrapped {border: 1px dashed gray;margin: 0 0.4em 0.5em 0.4em;box-sizing: border-box;padding-bottom: 0.4em;background-color: white;}#sk-container-id-1 div.sk-label label {font-family: monospace;font-weight: bold;display: inline-block;line-height: 1.2em;}#sk-container-id-1 div.sk-label-container {text-align: center;}#sk-container-id-1 div.sk-container {/* jupyter's `normalize.less` sets `[hidden] { display: none; }` but bootstrap.min.css set `[hidden] { display: none !important; }` so we also need the `!important` here to be able to override the default hidden behavior on the sphinx rendered scikit-learn.org. See: https://github.com/scikit-learn/scikit-learn/issues/21755 */display: inline-block !important;position: relative;}#sk-container-id-1 div.sk-text-repr-fallback {display: none;}</style><div id=\"sk-container-id-1\" class=\"sk-top-container\"><div class=\"sk-text-repr-fallback\"><pre>LogisticRegression()</pre><b>In a Jupyter environment, please rerun this cell to show the HTML representation or trust the notebook. <br />On GitHub, the HTML representation is unable to render, please try loading this page with nbviewer.org.</b></div><div class=\"sk-container\" hidden><div class=\"sk-item\"><div class=\"sk-estimator sk-toggleable\"><input class=\"sk-toggleable__control sk-hidden--visually\" id=\"sk-estimator-id-1\" type=\"checkbox\" checked><label for=\"sk-estimator-id-1\" class=\"sk-toggleable__label sk-toggleable__label-arrow\">LogisticRegression</label><div class=\"sk-toggleable__content\"><pre>LogisticRegression()</pre></div></div></div></div></div>"
      ],
      "text/plain": [
       "LogisticRegression()"
      ]
     },
     "execution_count": 88,
     "metadata": {},
     "output_type": "execute_result"
    }
   ],
   "source": [
    "model.fit(X_train, y_train)\n"
   ]
  },
  {
   "cell_type": "markdown",
   "id": "509dc5a7-0388-470b-9908-516f7765ec4f",
   "metadata": {},
   "source": [
    "Evaluation"
   ]
  },
  {
   "cell_type": "code",
   "execution_count": 89,
   "id": "bd855411-e680-4560-bd8d-eda40b06aa96",
   "metadata": {},
   "outputs": [],
   "source": [
    "X_train_preds = model.predict(X_train)\n",
    "training_data_accuracy_score = accuracy_score(X_train_preds, y_train)"
   ]
  },
  {
   "cell_type": "code",
   "execution_count": 90,
   "id": "4f2b46c7-2b86-4b90-9f39-74dabdb6bb1e",
   "metadata": {},
   "outputs": [
    {
     "name": "stdout",
     "output_type": "stream",
     "text": [
      "0.9865985576923076\n"
     ]
    }
   ],
   "source": [
    "print(training_data_accuracy_score)"
   ]
  },
  {
   "cell_type": "code",
   "execution_count": 91,
   "id": "e9903427-ece5-473b-bbe7-e530ff7ae044",
   "metadata": {},
   "outputs": [],
   "source": [
    "#accuracy on test data\n",
    "X_test_preds = model.predict(X_test)\n",
    "test_data_accuracy_score = accuracy_score(X_test_preds, y_test)"
   ]
  },
  {
   "cell_type": "code",
   "execution_count": 92,
   "id": "096156a2-ba62-40ab-8444-cbf4b8ed9a9d",
   "metadata": {},
   "outputs": [
    {
     "name": "stdout",
     "output_type": "stream",
     "text": [
      "0.9790865384615385\n"
     ]
    }
   ],
   "source": [
    "print(test_data_accuracy_score)"
   ]
  },
  {
   "cell_type": "markdown",
   "id": "e4ba03fa-9560-42cf-860d-0acc93ab8ce4",
   "metadata": {},
   "source": [
    "Testing the model in validation data"
   ]
  },
  {
   "cell_type": "code",
   "execution_count": 94,
   "id": "c5a9e101-2554-4814-a973-3a7617a533d6",
   "metadata": {},
   "outputs": [],
   "source": [
    "test_data=pd.read_csv('Downloads/test.csv.zip')"
   ]
  },
  {
   "cell_type": "code",
   "execution_count": 96,
   "id": "c15faa75-9440-4005-9f6b-ebfff1b6c8ca",
   "metadata": {},
   "outputs": [
    {
     "data": {
      "text/plain": [
       "(5200, 4)"
      ]
     },
     "execution_count": 96,
     "metadata": {},
     "output_type": "execute_result"
    }
   ],
   "source": [
    "test_data.shape"
   ]
  },
  {
   "cell_type": "code",
   "execution_count": 97,
   "id": "06845f70-879b-4a4d-8a04-8e63c77d31b6",
   "metadata": {},
   "outputs": [
    {
     "data": {
      "text/html": [
       "<div>\n",
       "<style scoped>\n",
       "    .dataframe tbody tr th:only-of-type {\n",
       "        vertical-align: middle;\n",
       "    }\n",
       "\n",
       "    .dataframe tbody tr th {\n",
       "        vertical-align: top;\n",
       "    }\n",
       "\n",
       "    .dataframe thead th {\n",
       "        text-align: right;\n",
       "    }\n",
       "</style>\n",
       "<table border=\"1\" class=\"dataframe\">\n",
       "  <thead>\n",
       "    <tr style=\"text-align: right;\">\n",
       "      <th></th>\n",
       "      <th>id</th>\n",
       "      <th>title</th>\n",
       "      <th>author</th>\n",
       "      <th>text</th>\n",
       "    </tr>\n",
       "  </thead>\n",
       "  <tbody>\n",
       "    <tr>\n",
       "      <th>0</th>\n",
       "      <td>20800</td>\n",
       "      <td>Specter of Trump Loosens Tongues, if Not Purse...</td>\n",
       "      <td>David Streitfeld</td>\n",
       "      <td>PALO ALTO, Calif.  —   After years of scorning...</td>\n",
       "    </tr>\n",
       "    <tr>\n",
       "      <th>1</th>\n",
       "      <td>20801</td>\n",
       "      <td>Russian warships ready to strike terrorists ne...</td>\n",
       "      <td>NaN</td>\n",
       "      <td>Russian warships ready to strike terrorists ne...</td>\n",
       "    </tr>\n",
       "    <tr>\n",
       "      <th>2</th>\n",
       "      <td>20802</td>\n",
       "      <td>#NoDAPL: Native American Leaders Vow to Stay A...</td>\n",
       "      <td>Common Dreams</td>\n",
       "      <td>Videos #NoDAPL: Native American Leaders Vow to...</td>\n",
       "    </tr>\n",
       "    <tr>\n",
       "      <th>3</th>\n",
       "      <td>20803</td>\n",
       "      <td>Tim Tebow Will Attempt Another Comeback, This ...</td>\n",
       "      <td>Daniel Victor</td>\n",
       "      <td>If at first you don’t succeed, try a different...</td>\n",
       "    </tr>\n",
       "    <tr>\n",
       "      <th>4</th>\n",
       "      <td>20804</td>\n",
       "      <td>Keiser Report: Meme Wars (E995)</td>\n",
       "      <td>Truth Broadcast Network</td>\n",
       "      <td>42 mins ago 1 Views 0 Comments 0 Likes 'For th...</td>\n",
       "    </tr>\n",
       "  </tbody>\n",
       "</table>\n",
       "</div>"
      ],
      "text/plain": [
       "      id                                              title  \\\n",
       "0  20800  Specter of Trump Loosens Tongues, if Not Purse...   \n",
       "1  20801  Russian warships ready to strike terrorists ne...   \n",
       "2  20802  #NoDAPL: Native American Leaders Vow to Stay A...   \n",
       "3  20803  Tim Tebow Will Attempt Another Comeback, This ...   \n",
       "4  20804                    Keiser Report: Meme Wars (E995)   \n",
       "\n",
       "                    author                                               text  \n",
       "0         David Streitfeld  PALO ALTO, Calif.  —   After years of scorning...  \n",
       "1                      NaN  Russian warships ready to strike terrorists ne...  \n",
       "2            Common Dreams  Videos #NoDAPL: Native American Leaders Vow to...  \n",
       "3            Daniel Victor  If at first you don’t succeed, try a different...  \n",
       "4  Truth Broadcast Network  42 mins ago 1 Views 0 Comments 0 Likes 'For th...  "
      ]
     },
     "execution_count": 97,
     "metadata": {},
     "output_type": "execute_result"
    }
   ],
   "source": [
    "test_data.head()"
   ]
  },
  {
   "cell_type": "code",
   "execution_count": 98,
   "id": "c7e5034c-96ad-45b2-ab88-a88ef8defc7a",
   "metadata": {},
   "outputs": [
    {
     "data": {
      "text/plain": [
       "id          0\n",
       "title     122\n",
       "author    503\n",
       "text        7\n",
       "dtype: int64"
      ]
     },
     "execution_count": 98,
     "metadata": {},
     "output_type": "execute_result"
    }
   ],
   "source": [
    "test_data.isnull().sum()"
   ]
  },
  {
   "cell_type": "code",
   "execution_count": 100,
   "id": "45d97f14-784a-4d61-a0e3-eeff98abc6ad",
   "metadata": {},
   "outputs": [],
   "source": [
    "test_data=test_data.fillna('')"
   ]
  },
  {
   "cell_type": "code",
   "execution_count": 101,
   "id": "a863bbcb-6afe-4ca8-8786-902cd15ad962",
   "metadata": {},
   "outputs": [
    {
     "data": {
      "text/plain": [
       "id        0\n",
       "title     0\n",
       "author    0\n",
       "text      0\n",
       "dtype: int64"
      ]
     },
     "execution_count": 101,
     "metadata": {},
     "output_type": "execute_result"
    }
   ],
   "source": [
    "test_data.isnull().sum()"
   ]
  },
  {
   "cell_type": "code",
   "execution_count": 102,
   "id": "6c23b663-9a8b-41c6-9c58-00f3953725d4",
   "metadata": {},
   "outputs": [],
   "source": [
    "test_data['content'] = test_data['author'] + ' ' + test_data['title']"
   ]
  },
  {
   "cell_type": "code",
   "execution_count": 103,
   "id": "4b004a2b-97e1-4def-b239-0feecb0809e3",
   "metadata": {},
   "outputs": [
    {
     "data": {
      "text/plain": [
       "0       David Streitfeld Specter of Trump Loosens Tong...\n",
       "1        Russian warships ready to strike terrorists n...\n",
       "2       Common Dreams #NoDAPL: Native American Leaders...\n",
       "3       Daniel Victor Tim Tebow Will Attempt Another C...\n",
       "4       Truth Broadcast Network Keiser Report: Meme Wa...\n",
       "                              ...                        \n",
       "5195    Jody Rosen The Bangladeshi Traffic Jam That Ne...\n",
       "5196    Sheryl Gay Stolberg John Kasich Signs One Abor...\n",
       "5197    Mike McPhate California Today: What, Exactly, ...\n",
       "5198     300 US Marines To Be Deployed To Russian Bord...\n",
       "5199    Teddy Wayne Awkward Sex, Onscreen and Off - Th...\n",
       "Name: content, Length: 5200, dtype: object"
      ]
     },
     "execution_count": 103,
     "metadata": {},
     "output_type": "execute_result"
    }
   ],
   "source": [
    "test_data['content']"
   ]
  },
  {
   "cell_type": "code",
   "execution_count": 104,
   "id": "6cf222b0-eb64-480a-8ee5-927115ca9287",
   "metadata": {},
   "outputs": [],
   "source": [
    "# Apply stemming and TF-IDF vectorization to the 'content' column\n",
    "test_data['content'] = test_data['content'].apply(stemming)"
   ]
  },
  {
   "cell_type": "code",
   "execution_count": 105,
   "id": "1b3ce55a-c1bc-43a4-a5f8-1e984eaac52b",
   "metadata": {},
   "outputs": [],
   "source": [
    "X_test_final = test_data['content'].values\n",
    "X_test_final = vectorizer.transform(X_test_final)"
   ]
  },
  {
   "cell_type": "code",
   "execution_count": 107,
   "id": "9f885ab9-2447-41d6-b54b-7d8cc7af141e",
   "metadata": {},
   "outputs": [],
   "source": [
    "submissive=pd.read_csv('Downloads/submit.csv')"
   ]
  },
  {
   "cell_type": "code",
   "execution_count": 108,
   "id": "c35892e0-16db-407c-a52b-bb1661355759",
   "metadata": {},
   "outputs": [],
   "source": [
    "# Assuming 'submission.csv' contains 'id' and 'label' columns\n"
   ]
  },
  {
   "cell_type": "code",
   "execution_count": 110,
   "id": "157ff906-5a64-4ca6-985c-179ae1c4356a",
   "metadata": {},
   "outputs": [],
   "source": [
    "y_val_labels = submissive['label'].values"
   ]
  },
  {
   "cell_type": "code",
   "execution_count": 111,
   "id": "3b09d0a3-6969-406c-a6af-02f2b56db1be",
   "metadata": {},
   "outputs": [],
   "source": [
    "# Predict on the test data using the trained model\n",
    "\n",
    "y_val_final_preds = model.predict(X_test_final)\n"
   ]
  },
  {
   "cell_type": "code",
   "execution_count": 113,
   "id": "8e4927aa-79f0-4b74-8b7c-bd6fde93a08d",
   "metadata": {},
   "outputs": [
    {
     "name": "stdout",
     "output_type": "stream",
     "text": [
      "Accuracy Score on Validation Data (test.csv with submit.csv labels): 0.6440384615384616\n"
     ]
    }
   ],
   "source": [
    "test_data_accuracy_score_final = accuracy_score(y_val_labels, y_val_final_preds)\n",
    "print(\"Accuracy Score on Validation Data (test.csv with submit.csv labels):\", test_data_accuracy_score_final)"
   ]
  },
  {
   "cell_type": "code",
   "execution_count": null,
   "id": "c8951d87-65d4-49b6-8e47-2e30cae65eae",
   "metadata": {},
   "outputs": [],
   "source": []
  },
  {
   "cell_type": "code",
   "execution_count": null,
   "id": "84426aac-36ce-43ce-8330-9df66cece179",
   "metadata": {},
   "outputs": [],
   "source": []
  }
 ],
 "metadata": {
  "kernelspec": {
   "display_name": "Python 3 (ipykernel)",
   "language": "python",
   "name": "python3"
  },
  "language_info": {
   "codemirror_mode": {
    "name": "ipython",
    "version": 3
   },
   "file_extension": ".py",
   "mimetype": "text/x-python",
   "name": "python",
   "nbconvert_exporter": "python",
   "pygments_lexer": "ipython3",
   "version": "3.10.12"
  }
 },
 "nbformat": 4,
 "nbformat_minor": 5
}
